{
 "cells": [
  {
   "cell_type": "code",
   "execution_count": null,
   "metadata": {},
   "outputs": [],
   "source": [
    "from __future__ import print_function\n",
    "from collections import namedtuple\n",
    "import os\n",
    "import torch\n",
    "import torch.nn as nn\n",
    "import torch.utils.data\n",
    "import torchvision.transforms as transforms\n",
    "import torchvision.utils\n",
    "from torch.autograd import Variable\n",
    "import numpy as np\n",
    "import matplotlib.pyplot as plt\n",
    "from src.utils import normalize, setup_dataset\n",
    "\n",
    "%matplotlib inline\n",
    "\n",
    "def convert(dictionary):\n",
    "    return namedtuple('GenericDict', dictionary.keys())(**dictionary)\n",
    "torch.cuda.set_device(0)"
   ]
  },
  {
   "cell_type": "code",
   "execution_count": null,
   "metadata": {
    "collapsed": true
   },
   "outputs": [],
   "source": [
    "############################\n",
    "\n",
    "DATASET = 'celeba'  # cifar10, imagenet\n",
    "\n",
    "############################"
   ]
  },
  {
   "cell_type": "code",
   "execution_count": null,
   "metadata": {
    "collapsed": true
   },
   "outputs": [],
   "source": [
    "dtype = torch.FloatTensor\n",
    "\n",
    "opt=({      \n",
    "         'nz':128, \n",
    "         'nout':128,\n",
    "         'ngf':64, \n",
    "         'ndf': 64, \n",
    "         'noise': 'sphere',\n",
    "         'ngpu': 1,\n",
    "         'dataset': 'cifar10',\n",
    "         'image_size':32,\n",
    "         'workers':0,\n",
    "         'batch_size': 64,\n",
    "        })\n",
    "\n",
    "if DATASET=='cifar10':\n",
    "    # default params work for cifar10\n",
    "    pass\n",
    "elif DATASET== 'imagenet':\n",
    "    opt['dataset'] = 'imagenet'\n",
    "    opt['dataroot'] = '/sdh/data/imagenet' # put here your path\n",
    "elif DATASET=='celeba':\n",
    "    opt.update({      \n",
    "             'nz':64, \n",
    "             'dataset': 'celeba',\n",
    "             'dataroot': '/sdh/data/celebA/imgs1', # put here your path\n",
    "             'image_size':64, \n",
    "            })\n",
    "\n",
    "opt['nc'] =  1 if opt['dataset'] == 'mnist' else 3\n",
    "opt= convert(opt)"
   ]
  },
  {
   "cell_type": "code",
   "execution_count": null,
   "metadata": {},
   "outputs": [],
   "source": [
    "# Load g,e\n",
    "E_path = 'pretrained/%s_e.pth' % DATASET\n",
    "G_path = 'pretrained/%s_g.pth' % DATASET\n",
    "\n",
    "netG = torch.load(G_path).type(dtype)\n",
    "netE = torch.load(E_path).type(dtype)\n",
    "    \n",
    "netG.eval()\n",
    "netE.eval()"
   ]
  },
  {
   "cell_type": "markdown",
   "metadata": {},
   "source": [
    "# Sample"
   ]
  },
  {
   "cell_type": "code",
   "execution_count": null,
   "metadata": {},
   "outputs": [],
   "source": [
    "z = Variable(dtype(opt.batch_size, opt.nz, 1, 1).normal_(0, 1), volatile=True)\n",
    "z = normalize(z)\n",
    "\n",
    "samples = netG(z).data.cpu()\n",
    "\n",
    "grid = torchvision.utils.make_grid(samples/2 + 0.5, pad_value=1)\n",
    "grid_PIL = transforms.ToPILImage()(grid)\n",
    "\n",
    "grid_PIL"
   ]
  },
  {
   "cell_type": "markdown",
   "metadata": {},
   "source": [
    "# Reconstruct"
   ]
  },
  {
   "cell_type": "code",
   "execution_count": null,
   "metadata": {},
   "outputs": [],
   "source": [
    "dataloader = setup_dataset(opt, train=False)\n",
    "d = dataloader.next()"
   ]
  },
  {
   "cell_type": "code",
   "execution_count": null,
   "metadata": {
    "scrolled": false
   },
   "outputs": [],
   "source": [
    "x = Variable(d[0], volatile=True)\n",
    "\n",
    "ex = netE(x)\n",
    "gex = netG(ex)\n",
    "\n",
    "\n",
    "t = torch.FloatTensor(x.size(0) * 2, x.size(1), x.size(2), x.size(3))\n",
    "t[0::2] = x.data.cpu()[:]\n",
    "t[1::2] = gex.data.cpu()[:]\n",
    "\n",
    "\n",
    "grid = torchvision.utils.make_grid(t/2 + 0.5, pad_value=1, nrow=16)\n",
    "grid_PIL = transforms.ToPILImage()(grid)\n",
    "\n",
    "\n",
    "grid_PIL"
   ]
  }
 ],
 "metadata": {
  "kernelspec": {
   "display_name": "Python [default]",
   "language": "python",
   "name": "python2"
  },
  "language_info": {
   "codemirror_mode": {
    "name": "ipython",
    "version": 2
   },
   "file_extension": ".py",
   "mimetype": "text/x-python",
   "name": "python",
   "nbconvert_exporter": "python",
   "pygments_lexer": "ipython2",
   "version": "2.7.13"
  }
 },
 "nbformat": 4,
 "nbformat_minor": 2
}
